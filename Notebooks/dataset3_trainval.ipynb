{
 "cells": [
  {
   "cell_type": "code",
   "execution_count": 1,
   "id": "0dedc6a1",
   "metadata": {},
   "outputs": [
    {
     "name": "stdout",
     "output_type": "stream",
     "text": [
      "/nfsd/sysbiobig/bazzaccoen/tangramlit_dev\n"
     ]
    }
   ],
   "source": [
    "%cd /nfsd/sysbiobig/bazzaccoen/tangramlit_dev"
   ]
  },
  {
   "cell_type": "code",
   "execution_count": 2,
   "id": "3d5cedf5",
   "metadata": {},
   "outputs": [
    {
     "name": "stderr",
     "output_type": "stream",
     "text": [
      "/nfsd/sysbiobig/bazzaccoen/tangramlit_dev/myvenv/lib64/python3.12/site-packages/dask/dataframe/__init__.py:31: FutureWarning: The legacy Dask DataFrame implementation is deprecated and will be removed in a future version. Set the configuration option `dataframe.query-planning` to `True` or None to enable the new Dask Dataframe implementation and silence this warning.\n",
      "  warnings.warn(\n",
      "/nfsd/sysbiobig/bazzaccoen/tangramlit_dev/myvenv/lib64/python3.12/site-packages/xarray_schema/__init__.py:1: UserWarning: pkg_resources is deprecated as an API. See https://setuptools.pypa.io/en/latest/pkg_resources.html. The pkg_resources package is slated for removal as early as 2025-11-30. Refrain from using this package or pin to Setuptools<81.\n",
      "  from pkg_resources import DistributionNotFound, get_distribution\n",
      "/nfsd/sysbiobig/bazzaccoen/tangramlit_dev/myvenv/lib64/python3.12/site-packages/anndata/utils.py:434: FutureWarning: Importing read_text from `anndata` is deprecated. Import anndata.io.read_text instead.\n",
      "  warnings.warn(msg, FutureWarning)\n"
     ]
    }
   ],
   "source": [
    "import tangramlit as tgl"
   ]
  },
  {
   "cell_type": "code",
   "execution_count": 3,
   "id": "b9c58f10",
   "metadata": {},
   "outputs": [],
   "source": [
    "import scanpy as sc\n",
    "import numpy as np \n",
    "import pandas as pd\n",
    "import anndata as ad\n",
    "import yaml"
   ]
  },
  {
   "cell_type": "markdown",
   "id": "45cd0443",
   "metadata": {},
   "source": [
    "# Data preparation"
   ]
  },
  {
   "cell_type": "code",
   "execution_count": 4,
   "id": "3bec075c",
   "metadata": {},
   "outputs": [],
   "source": [
    "# Set data path\n",
    "data_path = \"/nfsd/sysbiobig/bazzaccoen/tangramlit_dev/data/Dataset3/\""
   ]
  },
  {
   "cell_type": "markdown",
   "id": "3d25e20f",
   "metadata": {},
   "source": [
    "## SC data"
   ]
  },
  {
   "cell_type": "code",
   "execution_count": null,
   "id": "24cd7891",
   "metadata": {},
   "outputs": [
    {
     "data": {
      "text/plain": [
       "AnnData object with n_obs × n_vars = 8653 × 31053\n",
       "    var: 'gene_ids', 'feature_types'"
      ]
     },
     "execution_count": 7,
     "metadata": {},
     "output_type": "execute_result"
    }
   ],
   "source": [
    "adata_sc = sc.read_10x_mtx(\n",
    "    data_path + 'GSM4800800_HIPP_sc_Rep1_10X',\n",
    "    var_names='gene_symbols',\n",
    "    cache=True\n",
    ")\n",
    "adata_sc"
   ]
  },
  {
   "cell_type": "code",
   "execution_count": 13,
   "id": "f1a95a39",
   "metadata": {},
   "outputs": [
    {
     "data": {
      "text/html": [
       "<div>\n",
       "<style scoped>\n",
       "    .dataframe tbody tr th:only-of-type {\n",
       "        vertical-align: middle;\n",
       "    }\n",
       "\n",
       "    .dataframe tbody tr th {\n",
       "        vertical-align: top;\n",
       "    }\n",
       "\n",
       "    .dataframe thead th {\n",
       "        text-align: right;\n",
       "    }\n",
       "</style>\n",
       "<table border=\"1\" class=\"dataframe\">\n",
       "  <thead>\n",
       "    <tr style=\"text-align: right;\">\n",
       "      <th></th>\n",
       "    </tr>\n",
       "  </thead>\n",
       "  <tbody>\n",
       "    <tr>\n",
       "      <th>AAACCTGAGATGCCAG-1</th>\n",
       "    </tr>\n",
       "    <tr>\n",
       "      <th>AAACCTGAGGCGCTCT-1</th>\n",
       "    </tr>\n",
       "    <tr>\n",
       "      <th>AAACCTGCAACACCTA-1</th>\n",
       "    </tr>\n",
       "    <tr>\n",
       "      <th>AAACCTGCATGCCTAA-1</th>\n",
       "    </tr>\n",
       "    <tr>\n",
       "      <th>AAACCTGGTCGAACAG-1</th>\n",
       "    </tr>\n",
       "    <tr>\n",
       "      <th>...</th>\n",
       "    </tr>\n",
       "    <tr>\n",
       "      <th>TTTGTCAGTGCAACTT-1</th>\n",
       "    </tr>\n",
       "    <tr>\n",
       "      <th>TTTGTCAGTTGCGCAC-1</th>\n",
       "    </tr>\n",
       "    <tr>\n",
       "      <th>TTTGTCATCACTGGGC-1</th>\n",
       "    </tr>\n",
       "    <tr>\n",
       "      <th>TTTGTCATCGATCCCT-1</th>\n",
       "    </tr>\n",
       "    <tr>\n",
       "      <th>TTTGTCATCTTAGAGC-1</th>\n",
       "    </tr>\n",
       "  </tbody>\n",
       "</table>\n",
       "<p>8653 rows × 0 columns</p>\n",
       "</div>"
      ],
      "text/plain": [
       "Empty DataFrame\n",
       "Columns: []\n",
       "Index: [AAACCTGAGATGCCAG-1, AAACCTGAGGCGCTCT-1, AAACCTGCAACACCTA-1, AAACCTGCATGCCTAA-1, AAACCTGGTCGAACAG-1, AAACCTGGTGGTACAG-1, AAACCTGGTTAAGACA-1, AAACCTGGTTATTCTC-1, AAACCTGGTTTGTTGG-1, AAACCTGTCCTTTACA-1, AAACCTGTCGGCATCG-1, AAACCTGTCTGGCGTG-1, AAACGGGAGCGATCCC-1, AAACGGGAGCTGCCCA-1, AAACGGGAGCTGTCTA-1, AAACGGGAGGTTCCTA-1, AAACGGGAGTACGCCC-1, AAACGGGAGTATCTCG-1, AAACGGGAGTGGAGAA-1, AAACGGGCAATGAATG-1, AAACGGGCACCACGTG-1, AAACGGGCAGTTCATG-1, AAACGGGCATGGTAGG-1, AAACGGGGTACAGTTC-1, AAACGGGGTCACCCAG-1, AAACGGGGTGCATCTA-1, AAACGGGTCCACGACG-1, AAACGGGTCCCAAGTA-1, AAACGGGTCCCTGACT-1, AAACGGGTCGATGAGG-1, AAACGGGTCTCGATGA-1, AAACGGGTCTGCTGTC-1, AAAGATGAGACAGACC-1, AAAGATGAGACTAGAT-1, AAAGATGAGATCTGCT-1, AAAGATGAGATGGCGT-1, AAAGATGAGCCACGTC-1, AAAGATGAGCCGCCTA-1, AAAGATGAGCGTAATA-1, AAAGATGAGCTCCTCT-1, AAAGATGAGGCAAAGA-1, AAAGATGAGTATCGAA-1, AAAGATGAGTGTTAGA-1, AAAGATGCAATGGAAT-1, AAAGATGCACACTGCG-1, AAAGATGCACTAGTAC-1, AAAGATGCATCGGGTC-1, AAAGATGGTAGGACAC-1, AAAGATGGTCTGCCAG-1, AAAGATGGTGCACTTA-1, AAAGATGGTTCAGCGC-1, AAAGATGGTTGGTAAA-1, AAAGATGTCACCGGGT-1, AAAGATGTCATCGATG-1, AAAGATGTCGAATGCT-1, AAAGATGTCGCCTGAG-1, AAAGATGTCTCTGTCG-1, AAAGCAAAGATGGGTC-1, AAAGCAAAGCACACAG-1, AAAGCAAAGGGATCTG-1, AAAGCAAAGGTGATAT-1, AAAGCAAAGGTGTGGT-1, AAAGCAAAGTTTGCGT-1, AAAGCAACAAAGAATC-1, AAAGCAACACATAACC-1, AAAGCAACACTGCCAG-1, AAAGCAACAGTATCTG-1, AAAGCAACATGAGCGA-1, AAAGCAACATGCCTTC-1, AAAGCAACATGCTAGT-1, AAAGCAACATTGGGCC-1, AAAGCAAGTATCGCAT-1, AAAGCAAGTCCAACTA-1, AAAGCAAGTCTCAACA-1, AAAGCAAGTGTAATGA-1, AAAGCAAGTTCAGGCC-1, AAAGCAAGTTCGCGAC-1, AAAGCAATCACGGTTA-1, AAAGCAATCACTCTTA-1, AAAGCAATCGCCGTGA-1, AAAGCAATCTCATTCA-1, AAAGCAATCTGTCTCG-1, AAAGTAGAGCCACGCT-1, AAAGTAGAGCTGCAAG-1, AAAGTAGAGGATGCGT-1, AAAGTAGAGGTTACCT-1, AAAGTAGCAACACCCG-1, AAAGTAGCAAGCCATT-1, AAAGTAGCACCCATTC-1, AAAGTAGCACGTAAGG-1, AAAGTAGCAGCCAATT-1, AAAGTAGCATCTATGG-1, AAAGTAGGTCGCTTCT-1, AAAGTAGGTGATAAAC-1, AAAGTAGTCGTGGTCG-1, AAAGTAGTCTCCGGTT-1, AAATGCCAGACCTTTG-1, AAATGCCAGAGTGACC-1, AAATGCCAGCCAACAG-1, AAATGCCAGCCTATGT-1, ...]\n",
       "\n",
       "[8653 rows x 0 columns]"
      ]
     },
     "execution_count": 13,
     "metadata": {},
     "output_type": "execute_result"
    }
   ],
   "source": [
    "adata_sc.obs  # no columns"
   ]
  },
  {
   "cell_type": "code",
   "execution_count": 9,
   "id": "8135a802",
   "metadata": {},
   "outputs": [
    {
     "data": {
      "text/html": [
       "<div>\n",
       "<style scoped>\n",
       "    .dataframe tbody tr th:only-of-type {\n",
       "        vertical-align: middle;\n",
       "    }\n",
       "\n",
       "    .dataframe tbody tr th {\n",
       "        vertical-align: top;\n",
       "    }\n",
       "\n",
       "    .dataframe thead th {\n",
       "        text-align: right;\n",
       "    }\n",
       "</style>\n",
       "<table border=\"1\" class=\"dataframe\">\n",
       "  <thead>\n",
       "    <tr style=\"text-align: right;\">\n",
       "      <th></th>\n",
       "      <th>gene_ids</th>\n",
       "      <th>feature_types</th>\n",
       "    </tr>\n",
       "  </thead>\n",
       "  <tbody>\n",
       "    <tr>\n",
       "      <th>Xkr4</th>\n",
       "      <td>ENSMUSG00000051951</td>\n",
       "      <td>Gene Expression</td>\n",
       "    </tr>\n",
       "    <tr>\n",
       "      <th>Gm1992</th>\n",
       "      <td>ENSMUSG00000089699</td>\n",
       "      <td>Gene Expression</td>\n",
       "    </tr>\n",
       "    <tr>\n",
       "      <th>Gm37381</th>\n",
       "      <td>ENSMUSG00000102343</td>\n",
       "      <td>Gene Expression</td>\n",
       "    </tr>\n",
       "    <tr>\n",
       "      <th>Rp1</th>\n",
       "      <td>ENSMUSG00000025900</td>\n",
       "      <td>Gene Expression</td>\n",
       "    </tr>\n",
       "    <tr>\n",
       "      <th>Sox17</th>\n",
       "      <td>ENSMUSG00000025902</td>\n",
       "      <td>Gene Expression</td>\n",
       "    </tr>\n",
       "    <tr>\n",
       "      <th>...</th>\n",
       "      <td>...</td>\n",
       "      <td>...</td>\n",
       "    </tr>\n",
       "    <tr>\n",
       "      <th>AC168977.1</th>\n",
       "      <td>ENSMUSG00000079808</td>\n",
       "      <td>Gene Expression</td>\n",
       "    </tr>\n",
       "    <tr>\n",
       "      <th>AC149090.1</th>\n",
       "      <td>ENSMUSG00000095041</td>\n",
       "      <td>Gene Expression</td>\n",
       "    </tr>\n",
       "    <tr>\n",
       "      <th>CAAA01118383.1</th>\n",
       "      <td>ENSMUSG00000063897</td>\n",
       "      <td>Gene Expression</td>\n",
       "    </tr>\n",
       "    <tr>\n",
       "      <th>Vmn2r122</th>\n",
       "      <td>ENSMUSG00000096730</td>\n",
       "      <td>Gene Expression</td>\n",
       "    </tr>\n",
       "    <tr>\n",
       "      <th>CAAA01147332.1</th>\n",
       "      <td>ENSMUSG00000095742</td>\n",
       "      <td>Gene Expression</td>\n",
       "    </tr>\n",
       "  </tbody>\n",
       "</table>\n",
       "<p>31053 rows × 2 columns</p>\n",
       "</div>"
      ],
      "text/plain": [
       "                          gene_ids    feature_types\n",
       "Xkr4            ENSMUSG00000051951  Gene Expression\n",
       "Gm1992          ENSMUSG00000089699  Gene Expression\n",
       "Gm37381         ENSMUSG00000102343  Gene Expression\n",
       "Rp1             ENSMUSG00000025900  Gene Expression\n",
       "Sox17           ENSMUSG00000025902  Gene Expression\n",
       "...                            ...              ...\n",
       "AC168977.1      ENSMUSG00000079808  Gene Expression\n",
       "AC149090.1      ENSMUSG00000095041  Gene Expression\n",
       "CAAA01118383.1  ENSMUSG00000063897  Gene Expression\n",
       "Vmn2r122        ENSMUSG00000096730  Gene Expression\n",
       "CAAA01147332.1  ENSMUSG00000095742  Gene Expression\n",
       "\n",
       "[31053 rows x 2 columns]"
      ]
     },
     "execution_count": 9,
     "metadata": {},
     "output_type": "execute_result"
    }
   ],
   "source": [
    "adata_sc.var"
   ]
  },
  {
   "cell_type": "code",
   "execution_count": 14,
   "id": "21313b90",
   "metadata": {},
   "outputs": [
    {
     "data": {
      "text/plain": [
       "<Compressed Sparse Column sparse matrix of dtype 'float32'\n",
       "\twith 14037406 stored elements and shape (8653, 31053)>"
      ]
     },
     "execution_count": 14,
     "metadata": {},
     "output_type": "execute_result"
    }
   ],
   "source": [
    "adata_sc.X"
   ]
  },
  {
   "cell_type": "markdown",
   "id": "66399b07",
   "metadata": {},
   "source": [
    "SC data contains only cell IDs (empty obs dataframe), gene symbols/IDs and counts for $8653$ cells $\\times 31053$ genes. The benchmarking dataset has $8596 \\times 16384$ cells/genes respectively.\n",
    "\n",
    "It needs dowmnsampling and preprocessing."
   ]
  },
  {
   "cell_type": "code",
   "execution_count": null,
   "id": "9a737051",
   "metadata": {},
   "outputs": [
    {
     "name": "stderr",
     "output_type": "stream",
     "text": [
      "/tmp/ipykernel_59653/1761400515.py:1: FutureWarning: The specified parameters ('ext',) are no longer positional. Please specify them like `ext='h5ad'`\n",
      "  sc.write(data_path + \"/scRNA_data.h5ad\", adata_sc, 'h5ad')\n"
     ]
    }
   ],
   "source": [
    "# save h5ad\n",
    "sc.write(data_path + \"scRNA_data.h5ad\", adata_sc, 'h5ad')"
   ]
  },
  {
   "cell_type": "markdown",
   "id": "41cd4c91",
   "metadata": {},
   "source": [
    "## seqFISH data"
   ]
  },
  {
   "cell_type": "code",
   "execution_count": null,
   "id": "e6066959",
   "metadata": {},
   "outputs": [],
   "source": [
    "# read xlsx sheets\n",
    "seqfish_counts = pd.read_excel(data_path + 'spatial_counts_centroids.xlsx', sheet_name='Hippocampus Counts', header=None, index_col=0)\n",
    "seqfish_counts.index = seqfish_counts.index.str.strip(\"'\\\"\")  # remove double quoting \"''\"\n",
    "seqfish_coords = pd.read_excel(data_path + 'spatial_counts_centroids.xlsx', sheet_name='Centroids', header=None, index_col=None)\n",
    "seqfish_coords.index = seqfish_coords.index + 1  # align to seqfish_counts.columns\n",
    "seqfish_coords.columns = [\"X\", \"Y\", \"Label\"]  # name columns\n"
   ]
  },
  {
   "cell_type": "code",
   "execution_count": 33,
   "id": "6748c752",
   "metadata": {},
   "outputs": [
    {
     "data": {
      "text/html": [
       "<div>\n",
       "<style scoped>\n",
       "    .dataframe tbody tr th:only-of-type {\n",
       "        vertical-align: middle;\n",
       "    }\n",
       "\n",
       "    .dataframe tbody tr th {\n",
       "        vertical-align: top;\n",
       "    }\n",
       "\n",
       "    .dataframe thead th {\n",
       "        text-align: right;\n",
       "    }\n",
       "</style>\n",
       "<table border=\"1\" class=\"dataframe\">\n",
       "  <thead>\n",
       "    <tr style=\"text-align: right;\">\n",
       "      <th></th>\n",
       "      <th>1</th>\n",
       "      <th>2</th>\n",
       "      <th>3</th>\n",
       "      <th>4</th>\n",
       "      <th>5</th>\n",
       "      <th>6</th>\n",
       "      <th>7</th>\n",
       "      <th>8</th>\n",
       "      <th>9</th>\n",
       "      <th>10</th>\n",
       "      <th>...</th>\n",
       "      <th>3576</th>\n",
       "      <th>3577</th>\n",
       "      <th>3578</th>\n",
       "      <th>3579</th>\n",
       "      <th>3580</th>\n",
       "      <th>3581</th>\n",
       "      <th>3582</th>\n",
       "      <th>3583</th>\n",
       "      <th>3584</th>\n",
       "      <th>3585</th>\n",
       "    </tr>\n",
       "    <tr>\n",
       "      <th>0</th>\n",
       "      <th></th>\n",
       "      <th></th>\n",
       "      <th></th>\n",
       "      <th></th>\n",
       "      <th></th>\n",
       "      <th></th>\n",
       "      <th></th>\n",
       "      <th></th>\n",
       "      <th></th>\n",
       "      <th></th>\n",
       "      <th></th>\n",
       "      <th></th>\n",
       "      <th></th>\n",
       "      <th></th>\n",
       "      <th></th>\n",
       "      <th></th>\n",
       "      <th></th>\n",
       "      <th></th>\n",
       "      <th></th>\n",
       "      <th></th>\n",
       "      <th></th>\n",
       "    </tr>\n",
       "  </thead>\n",
       "  <tbody>\n",
       "    <tr>\n",
       "      <th>Tal1</th>\n",
       "      <td>34</td>\n",
       "      <td>18</td>\n",
       "      <td>15</td>\n",
       "      <td>21</td>\n",
       "      <td>17</td>\n",
       "      <td>12</td>\n",
       "      <td>11</td>\n",
       "      <td>4</td>\n",
       "      <td>14</td>\n",
       "      <td>24</td>\n",
       "      <td>...</td>\n",
       "      <td>13</td>\n",
       "      <td>0</td>\n",
       "      <td>1</td>\n",
       "      <td>7</td>\n",
       "      <td>6</td>\n",
       "      <td>3</td>\n",
       "      <td>0</td>\n",
       "      <td>4</td>\n",
       "      <td>1</td>\n",
       "      <td>4</td>\n",
       "    </tr>\n",
       "    <tr>\n",
       "      <th>Dmbx1</th>\n",
       "      <td>14</td>\n",
       "      <td>15</td>\n",
       "      <td>11</td>\n",
       "      <td>20</td>\n",
       "      <td>1</td>\n",
       "      <td>14</td>\n",
       "      <td>8</td>\n",
       "      <td>9</td>\n",
       "      <td>3</td>\n",
       "      <td>7</td>\n",
       "      <td>...</td>\n",
       "      <td>2</td>\n",
       "      <td>2</td>\n",
       "      <td>2</td>\n",
       "      <td>8</td>\n",
       "      <td>5</td>\n",
       "      <td>1</td>\n",
       "      <td>0</td>\n",
       "      <td>3</td>\n",
       "      <td>2</td>\n",
       "      <td>0</td>\n",
       "    </tr>\n",
       "    <tr>\n",
       "      <th>Emx2</th>\n",
       "      <td>29</td>\n",
       "      <td>23</td>\n",
       "      <td>32</td>\n",
       "      <td>29</td>\n",
       "      <td>8</td>\n",
       "      <td>13</td>\n",
       "      <td>6</td>\n",
       "      <td>6</td>\n",
       "      <td>9</td>\n",
       "      <td>9</td>\n",
       "      <td>...</td>\n",
       "      <td>1</td>\n",
       "      <td>5</td>\n",
       "      <td>4</td>\n",
       "      <td>3</td>\n",
       "      <td>6</td>\n",
       "      <td>0</td>\n",
       "      <td>4</td>\n",
       "      <td>0</td>\n",
       "      <td>6</td>\n",
       "      <td>0</td>\n",
       "    </tr>\n",
       "    <tr>\n",
       "      <th>Uncx</th>\n",
       "      <td>17</td>\n",
       "      <td>6</td>\n",
       "      <td>3</td>\n",
       "      <td>6</td>\n",
       "      <td>14</td>\n",
       "      <td>5</td>\n",
       "      <td>11</td>\n",
       "      <td>1</td>\n",
       "      <td>0</td>\n",
       "      <td>7</td>\n",
       "      <td>...</td>\n",
       "      <td>0</td>\n",
       "      <td>0</td>\n",
       "      <td>3</td>\n",
       "      <td>8</td>\n",
       "      <td>0</td>\n",
       "      <td>0</td>\n",
       "      <td>2</td>\n",
       "      <td>0</td>\n",
       "      <td>4</td>\n",
       "      <td>6</td>\n",
       "    </tr>\n",
       "    <tr>\n",
       "      <th>Paxip1</th>\n",
       "      <td>31</td>\n",
       "      <td>36</td>\n",
       "      <td>42</td>\n",
       "      <td>44</td>\n",
       "      <td>15</td>\n",
       "      <td>8</td>\n",
       "      <td>20</td>\n",
       "      <td>19</td>\n",
       "      <td>13</td>\n",
       "      <td>11</td>\n",
       "      <td>...</td>\n",
       "      <td>7</td>\n",
       "      <td>10</td>\n",
       "      <td>4</td>\n",
       "      <td>19</td>\n",
       "      <td>5</td>\n",
       "      <td>1</td>\n",
       "      <td>1</td>\n",
       "      <td>9</td>\n",
       "      <td>1</td>\n",
       "      <td>3</td>\n",
       "    </tr>\n",
       "  </tbody>\n",
       "</table>\n",
       "<p>5 rows × 3585 columns</p>\n",
       "</div>"
      ],
      "text/plain": [
       "        1     2     3     4     5     6     7     8     9     10    ...  3576  \\\n",
       "0                                                                   ...         \n",
       "Tal1      34    18    15    21    17    12    11     4    14    24  ...    13   \n",
       "Dmbx1     14    15    11    20     1    14     8     9     3     7  ...     2   \n",
       "Emx2      29    23    32    29     8    13     6     6     9     9  ...     1   \n",
       "Uncx      17     6     3     6    14     5    11     1     0     7  ...     0   \n",
       "Paxip1    31    36    42    44    15     8    20    19    13    11  ...     7   \n",
       "\n",
       "        3577  3578  3579  3580  3581  3582  3583  3584  3585  \n",
       "0                                                             \n",
       "Tal1       0     1     7     6     3     0     4     1     4  \n",
       "Dmbx1      2     2     8     5     1     0     3     2     0  \n",
       "Emx2       5     4     3     6     0     4     0     6     0  \n",
       "Uncx       0     3     8     0     0     2     0     4     6  \n",
       "Paxip1    10     4    19     5     1     1     9     1     3  \n",
       "\n",
       "[5 rows x 3585 columns]"
      ]
     },
     "execution_count": 33,
     "metadata": {},
     "output_type": "execute_result"
    }
   ],
   "source": [
    "seqfish_counts.head()"
   ]
  },
  {
   "cell_type": "code",
   "execution_count": 32,
   "id": "058ab718",
   "metadata": {},
   "outputs": [
    {
     "data": {
      "text/html": [
       "<div>\n",
       "<style scoped>\n",
       "    .dataframe tbody tr th:only-of-type {\n",
       "        vertical-align: middle;\n",
       "    }\n",
       "\n",
       "    .dataframe tbody tr th {\n",
       "        vertical-align: top;\n",
       "    }\n",
       "\n",
       "    .dataframe thead th {\n",
       "        text-align: right;\n",
       "    }\n",
       "</style>\n",
       "<table border=\"1\" class=\"dataframe\">\n",
       "  <thead>\n",
       "    <tr style=\"text-align: right;\">\n",
       "      <th></th>\n",
       "      <th>X</th>\n",
       "      <th>Y</th>\n",
       "      <th>Label</th>\n",
       "    </tr>\n",
       "  </thead>\n",
       "  <tbody>\n",
       "    <tr>\n",
       "      <th>1</th>\n",
       "      <td>490</td>\n",
       "      <td>760</td>\n",
       "      <td>2</td>\n",
       "    </tr>\n",
       "    <tr>\n",
       "      <th>2</th>\n",
       "      <td>98</td>\n",
       "      <td>532</td>\n",
       "      <td>3</td>\n",
       "    </tr>\n",
       "    <tr>\n",
       "      <th>3</th>\n",
       "      <td>872</td>\n",
       "      <td>570</td>\n",
       "      <td>3</td>\n",
       "    </tr>\n",
       "    <tr>\n",
       "      <th>4</th>\n",
       "      <td>936</td>\n",
       "      <td>590</td>\n",
       "      <td>3</td>\n",
       "    </tr>\n",
       "    <tr>\n",
       "      <th>5</th>\n",
       "      <td>432</td>\n",
       "      <td>722</td>\n",
       "      <td>3</td>\n",
       "    </tr>\n",
       "  </tbody>\n",
       "</table>\n",
       "</div>"
      ],
      "text/plain": [
       "     X    Y  Label\n",
       "1  490  760      2\n",
       "2   98  532      3\n",
       "3  872  570      3\n",
       "4  936  590      3\n",
       "5  432  722      3"
      ]
     },
     "execution_count": 32,
     "metadata": {},
     "output_type": "execute_result"
    }
   ],
   "source": [
    "seqfish_coords.head()\n"
   ]
  },
  {
   "cell_type": "markdown",
   "id": "de294db2",
   "metadata": {},
   "source": [
    "Spatial data contains counts in a $_{genes} \\times n_{spots}$ dataframe and spatial ceontroids coordinates in a separate dataframe.\n",
    "\n",
    "Shape matches the one in the benchmarking paper exactly."
   ]
  },
  {
   "cell_type": "code",
   "execution_count": 35,
   "id": "1e600ec6",
   "metadata": {},
   "outputs": [
    {
     "name": "stderr",
     "output_type": "stream",
     "text": [
      "/nfsd/sysbiobig/bazzaccoen/tangramlit_dev/myvenv/lib64/python3.12/site-packages/anndata/_core/aligned_df.py:68: ImplicitModificationWarning: Transforming to str index.\n",
      "  warnings.warn(\"Transforming to str index.\", ImplicitModificationWarning)\n"
     ]
    },
    {
     "data": {
      "text/plain": [
       "AnnData object with n_obs × n_vars = 3585 × 249\n",
       "    obs: 'X', 'Y', 'Label'\n",
       "    obsm: 'spatial'"
      ]
     },
     "execution_count": 35,
     "metadata": {},
     "output_type": "execute_result"
    }
   ],
   "source": [
    "# Create anndata\n",
    "adata_st = ad.AnnData(\n",
    "    seqfish_counts.T,  # transpose counts df\n",
    "    obs=seqfish_coords,\n",
    ")\n",
    "adata_st.obsm['spatial'] = adata_st.obs[['X', 'Y']].to_numpy()\n",
    "adata_st"
   ]
  },
  {
   "cell_type": "code",
   "execution_count": null,
   "id": "688fa43f",
   "metadata": {},
   "outputs": [
    {
     "data": {
      "text/plain": [
       "Index(['1', '2', '3', '4', '5', '6', '7', '8', '9', '10',\n",
       "       ...\n",
       "       '3576', '3577', '3578', '3579', '3580', '3581', '3582', '3583', '3584',\n",
       "       '3585'],\n",
       "      dtype='object', length=3585)"
      ]
     },
     "execution_count": 37,
     "metadata": {},
     "output_type": "execute_result"
    }
   ],
   "source": [
    "# save anndata\n",
    "sc.write(data_path + \"seqFISH_data.h5ad\", adata_st, 'h5ad')"
   ]
  },
  {
   "cell_type": "markdown",
   "id": "c2de4c30",
   "metadata": {},
   "source": [
    "# Data Loading"
   ]
  },
  {
   "cell_type": "code",
   "execution_count": 11,
   "id": "8705355b",
   "metadata": {},
   "outputs": [
    {
     "data": {
      "text/plain": [
       "AnnData object with n_obs × n_vars = 8653 × 31053\n",
       "    var: 'gene_ids', 'feature_types'"
      ]
     },
     "execution_count": 11,
     "metadata": {},
     "output_type": "execute_result"
    }
   ],
   "source": [
    "adata_sc = sc.read(data_path + \"scRNA_data.h5ad\")\n",
    "adata_sc"
   ]
  },
  {
   "cell_type": "code",
   "execution_count": 12,
   "id": "0d75bc0b",
   "metadata": {},
   "outputs": [
    {
     "data": {
      "text/plain": [
       "AnnData object with n_obs × n_vars = 3585 × 249\n",
       "    obs: 'X', 'Y', 'Label'\n",
       "    obsm: 'spatial'"
      ]
     },
     "execution_count": 12,
     "metadata": {},
     "output_type": "execute_result"
    }
   ],
   "source": [
    "adata_st = sc.read(data_path + \"seqFISH_data.h5ad\")\n",
    "adata_st"
   ]
  },
  {
   "cell_type": "markdown",
   "id": "7997d137",
   "metadata": {},
   "source": [
    "# Config"
   ]
  },
  {
   "cell_type": "code",
   "execution_count": 13,
   "id": "37927a07",
   "metadata": {},
   "outputs": [
    {
     "data": {
      "text/plain": [
       "{'cluster_label': None,\n",
       " 'lambda_count': 1e-05,\n",
       " 'lambda_ct_islands': 0,\n",
       " 'lambda_d': 0.001,\n",
       " 'lambda_f_reg': 1e-05,\n",
       " 'lambda_g1': 1,\n",
       " 'lambda_g2': 1,\n",
       " 'lambda_geary': 1,\n",
       " 'lambda_getis_ord': 1,\n",
       " 'lambda_l1': 1e-15,\n",
       " 'lambda_l2': 1e-18,\n",
       " 'lambda_moran': 1,\n",
       " 'lambda_neighborhood_g1': 1,\n",
       " 'lambda_r': 1e-09,\n",
       " 'lambda_sparsity_g1': 1,\n",
       " 'learning_rate': 0.1,\n",
       " 'filter': False,\n",
       " 'num_epochs': 1000,\n",
       " 'random_state': 42,\n",
       " 'target_count': None}"
      ]
     },
     "execution_count": 13,
     "metadata": {},
     "output_type": "execute_result"
    }
   ],
   "source": [
    "# Read config yaml\n",
    "with open(\"data/Dataset3/train_config.yaml\", \"r\") as f:\n",
    "        config = yaml.safe_load(f)\n",
    "\n",
    "config  # no cluster_label and ct_islands"
   ]
  },
  {
   "cell_type": "markdown",
   "id": "bf8c71be",
   "metadata": {},
   "source": [
    "# Train/val split"
   ]
  },
  {
   "cell_type": "code",
   "execution_count": 14,
   "id": "4eadaade",
   "metadata": {},
   "outputs": [
    {
     "name": "stdout",
     "output_type": "stream",
     "text": [
      "195 training genes:  ['irx4' 'tfdp2' 'myb' 'nr2f2' 'sin3a' 'ttf1' 'barhl1' 'foxc1' 'hoxa1'\n",
      " 'reln'] ...\n",
      "49 validation genes:  ['klf1' 'med14' 'elf1' 'foxn4' 'pin1' 'cdc6' 'xdh' 'cdc5l' 'smad3' 'irx5'] ...\n"
     ]
    }
   ],
   "source": [
    "# Get shared genes (case-insensitive)\n",
    "sc_genes = {gene.lower(): gene for gene in adata_sc.var_names}\n",
    "st_genes = {gene.lower(): gene for gene in adata_st.var_names}\n",
    "\n",
    "# Find intersection of lowercase gene names\n",
    "shared_genes_set = set(sc_genes.keys()) & set(st_genes.keys())\n",
    "shared_genes = [gene_lower for gene_lower in shared_genes_set]\n",
    "\n",
    "# Shuffle the shared genes\n",
    "shared_genes = np.array(shared_genes)\n",
    "np.random.seed(config['random_state'])\n",
    "np.random.shuffle(shared_genes)\n",
    "\n",
    "# Split into train and validation\n",
    "train_ratio = 0.8\n",
    "n_train = int(len(shared_genes) * train_ratio)\n",
    "train_genes = shared_genes[:n_train]\n",
    "val_genes = shared_genes[n_train:]\n",
    "\n",
    "print(len(train_genes), \"training genes: \", train_genes[0:10], \"...\")\n",
    "print(len(val_genes), \"validation genes: \", val_genes[0:10], \"...\")"
   ]
  },
  {
   "cell_type": "markdown",
   "id": "3f4afaf9",
   "metadata": {},
   "source": [
    "# Model training"
   ]
  },
  {
   "cell_type": "code",
   "execution_count": 15,
   "id": "53261331",
   "metadata": {},
   "outputs": [
    {
     "name": "stderr",
     "output_type": "stream",
     "text": [
      "GPU available: False, used: False\n",
      "TPU available: False, using: 0 TPU cores\n",
      "HPU available: False, using: 0 HPUs\n"
     ]
    },
    {
     "name": "stderr",
     "output_type": "stream",
     "text": [
      "WARNING:root:The following train/val input genes were removed with preprocessing: ['irx4', 'hoxd12', 'tfap2e', 'phox2b', 'foxn1', 'pax7', 'hoxb8', 'gata4', 'gfi1', 'foxd3'].\n",
      "WARNING:root:The following train/val input genes were removed with preprocessing: ['gata5', 'hoxb3', 'runx3', 'hnf1a'].\n",
      "\n",
      "  | Name               | Type      | Params | Mode \n",
      "---------------------------------------------------------\n",
      "0 | _density_criterion | KLDivLoss | 0      | train\n",
      "  | other params       | n/a       | 31.0 M | n/a  \n",
      "---------------------------------------------------------\n",
      "31.0 M    Trainable params\n",
      "0         Non-trainable params\n",
      "31.0 M    Total params\n",
      "124.084   Total estimated model params size (MB)\n",
      "1         Modules in train mode\n",
      "0         Modules in eval mode\n"
     ]
    },
    {
     "name": "stdout",
     "output_type": "stream",
     "text": [
      "\n",
      "Validating with 45 genes\n",
      "S matrix shape: torch.Size([8653, 45])\n",
      "G matrix shape: torch.Size([3585, 45])\n",
      "\n",
      "Validation 0: {'val_score': 0.7532742023468018, 'val_sparsity-weighted_score': 0.016755450516939163, 'val_AUC': 0.040464311838150024, 'val_entropy': 0.9390270113945007}\n"
     ]
    },
    {
     "name": "stderr",
     "output_type": "stream",
     "text": [
      "Trainig:   0%|          | 0/1000 [00:00<?, ?it/s]"
     ]
    },
    {
     "name": "stdout",
     "output_type": "stream",
     "text": [
      "\n",
      "Training with 185 genes\n",
      "S matrix shape: torch.Size([8653, 185])\n",
      "G matrix shape: torch.Size([3585, 185])\n"
     ]
    },
    {
     "ename": "",
     "evalue": "",
     "output_type": "error",
     "traceback": [
      "\u001b[1;31mThe Kernel crashed while executing code in the current cell or a previous cell. \n",
      "\u001b[1;31mPlease review the code in the cell(s) to identify a possible cause of the failure. \n",
      "\u001b[1;31mClick <a href='https://aka.ms/vscodeJupyterKernelCrash'>here</a> for more info. \n",
      "\u001b[1;31mView Jupyter <a href='command:jupyter.viewOutput'>log</a> for further details."
     ]
    }
   ],
   "source": [
    "ad_map, mapper, mapper_data = tgl.map_cells_to_space(\n",
    "        adata_sc=adata_sc, \n",
    "        adata_st=adata_st, \n",
    "        train_genes_names=train_genes,\n",
    "        val_genes_names=val_genes,\n",
    "        **config,\n",
    "        )"
   ]
  },
  {
   "cell_type": "code",
   "execution_count": 6,
   "id": "35387215",
   "metadata": {},
   "outputs": [],
   "source": [
    "# read training results\n",
    "ad_map = sc.read(filename=\"/nfsd/sysbiobig/bazzaccoen/tangramlit_dev/results/adata_map_Dataset3.h5ad\")"
   ]
  },
  {
   "cell_type": "code",
   "execution_count": 10,
   "id": "1f8dc90a",
   "metadata": {},
   "outputs": [
    {
     "ename": "ValueError",
     "evalue": "The truth value of an array with more than one element is ambiguous. Use a.any() or a.all()",
     "output_type": "error",
     "traceback": [
      "\u001b[31m---------------------------------------------------------------------------\u001b[39m",
      "\u001b[31mValueError\u001b[39m                                Traceback (most recent call last)",
      "\u001b[36mCell\u001b[39m\u001b[36m \u001b[39m\u001b[32mIn[10]\u001b[39m\u001b[32m, line 2\u001b[39m\n\u001b[32m      1\u001b[39m \u001b[38;5;66;03m# Plot main loss\u001b[39;00m\n\u001b[32m----> \u001b[39m\u001b[32m2\u001b[39m \u001b[43mtgl\u001b[49m\u001b[43m.\u001b[49m\u001b[43mplot_loss_terms\u001b[49m\u001b[43m(\u001b[49m\u001b[43madata_map\u001b[49m\u001b[43m=\u001b[49m\u001b[43mad_map\u001b[49m\u001b[43m,\u001b[49m\u001b[43m \u001b[49m\u001b[43mloss_key\u001b[49m\u001b[43m=\u001b[49m\u001b[43m[\u001b[49m\u001b[33;43m\"\u001b[39;49m\u001b[33;43mmain_loss\u001b[39;49m\u001b[33;43m\"\u001b[39;49m\u001b[43m,\u001b[49m\u001b[43m \u001b[49m\u001b[33;43m\"\u001b[39;49m\u001b[33;43mvg_reg\u001b[39;49m\u001b[33;43m\"\u001b[39;49m\u001b[43m,\u001b[49m\u001b[43m \u001b[49m\u001b[33;43m\"\u001b[39;49m\u001b[33;43mkl_reg\u001b[39;49m\u001b[33;43m\"\u001b[39;49m\u001b[43m]\u001b[49m\u001b[43m)\u001b[49m\n",
      "\u001b[36mFile \u001b[39m\u001b[32m/nfsd/sysbiobig/bazzaccoen/tangramlit_dev/tangramlit/plot_utils.py:148\u001b[39m, in \u001b[36mplot_loss_terms\u001b[39m\u001b[34m(adata_map, loss_key, lambda_coeff, lambda_scale, log_scale, make_subplot, subplot_shape)\u001b[39m\n\u001b[32m    146\u001b[39m     \u001b[38;5;28;01mraise\u001b[39;00m \u001b[38;5;167;01mValueError\u001b[39;00m(\u001b[33mf\u001b[39m\u001b[33m\"\u001b[39m\u001b[33mLoss term \u001b[39m\u001b[33m'\u001b[39m\u001b[38;5;132;01m{\u001b[39;00mkey\u001b[38;5;132;01m}\u001b[39;00m\u001b[33m'\u001b[39m\u001b[33m not found in training_history.\u001b[39m\u001b[33m\"\u001b[39m)\n\u001b[32m    147\u001b[39m values = history[key]\n\u001b[32m--> \u001b[39m\u001b[32m148\u001b[39m \u001b[38;5;28;01mif\u001b[39;00m \u001b[38;5;129;01mnot\u001b[39;00m values:\n\u001b[32m    149\u001b[39m     \u001b[38;5;28;01mraise\u001b[39;00m \u001b[38;5;167;01mValueError\u001b[39;00m(\u001b[33mf\u001b[39m\u001b[33m\"\u001b[39m\u001b[33mLoss term \u001b[39m\u001b[33m'\u001b[39m\u001b[38;5;132;01m{\u001b[39;00mkey\u001b[38;5;132;01m}\u001b[39;00m\u001b[33m'\u001b[39m\u001b[33m has empty history.\u001b[39m\u001b[33m\"\u001b[39m)\n\u001b[32m    151\u001b[39m \u001b[38;5;66;03m# to numpy\u001b[39;00m\n",
      "\u001b[31mValueError\u001b[39m: The truth value of an array with more than one element is ambiguous. Use a.any() or a.all()"
     ]
    }
   ],
   "source": [
    "# Plot main loss\n",
    "tgl.plot_loss_terms(adata_map=ad_map, loss_key=[\"main_loss\", \"vg_reg\", \"kl_reg\"])"
   ]
  },
  {
   "cell_type": "code",
   "execution_count": null,
   "id": "f1f91ed9",
   "metadata": {},
   "outputs": [],
   "source": [
    "# Score terms\n",
    "tgl.plot_loss_terms(adata_map=ad_map, loss_key=[\"main_loss\", \"sparsity_term\", \"neighborhood_term\"], lambda_scale=False,\n",
    "                   make_subplot=True, subplot_shape=(1,3))"
   ]
  },
  {
   "cell_type": "code",
   "execution_count": null,
   "id": "810d5624",
   "metadata": {},
   "outputs": [],
   "source": [
    "# LISA terms\n",
    "tgl.plot_loss_terms(adata_map=ad_map, loss_key=[\"main_loss\", \"getis_ord_term\", \"moran_term\", \"geary_term\"], \n",
    "                    lambda_scale=False, make_subplot=True)"
   ]
  },
  {
   "cell_type": "code",
   "execution_count": null,
   "id": "1d60ec07",
   "metadata": {},
   "outputs": [],
   "source": [
    "# CT islands term\n",
    "tgl.plot_loss_terms(adata_map=ad_map, loss_key=\"ct_island_term\", lambda_scale=False)"
   ]
  },
  {
   "cell_type": "markdown",
   "id": "fb602f6a",
   "metadata": {},
   "source": [
    "# Validate"
   ]
  },
  {
   "cell_type": "code",
   "execution_count": null,
   "id": "76f19b27",
   "metadata": {},
   "outputs": [],
   "source": [
    "# call trainer.validate()\n",
    "full_val = tgl.validate_mapping_experiment(mapper, mapper_data)"
   ]
  },
  {
   "cell_type": "markdown",
   "id": "fab0c94f",
   "metadata": {},
   "source": [
    "# Sparsity"
   ]
  },
  {
   "cell_type": "code",
   "execution_count": null,
   "id": "19f5b0f3",
   "metadata": {},
   "outputs": [],
   "source": [
    "# Project all sc data onto spots\n",
    "ad_ge = tgl.project_sc_genes_onto_space(ad_map, mapper_data)\n",
    "ad_ge"
   ]
  },
  {
   "cell_type": "code",
   "execution_count": null,
   "id": "d63f1e69",
   "metadata": {},
   "outputs": [],
   "source": [
    "# Create training genes scores dataframe\n",
    "df = tgl.compare_spatial_gene_expr(ad_ge, mapper_data)"
   ]
  },
  {
   "cell_type": "code",
   "execution_count": null,
   "id": "1ee5c797",
   "metadata": {},
   "outputs": [],
   "source": [
    "# Plot training scores panels\n",
    "tgl.plot_training_scores(df)"
   ]
  },
  {
   "cell_type": "code",
   "execution_count": null,
   "id": "aeddb761",
   "metadata": {},
   "outputs": [],
   "source": [
    "# Plot polyfit on test genes\n",
    "tgl.plot_auc_curve(df)  # same as validation genes"
   ]
  },
  {
   "cell_type": "markdown",
   "id": "d0e14c88",
   "metadata": {},
   "source": [
    "# Save"
   ]
  },
  {
   "cell_type": "code",
   "execution_count": null,
   "id": "8c402f26",
   "metadata": {},
   "outputs": [],
   "source": [
    "# Write tgl.map_cells_to_space() output to .h5ad\n",
    "sc.write(filename='/nfsd/sysbiobig/bazzaccoen/tangramlit_dev/results/adata_map_Dataset3', adata=ad_map, ext='h5ad')"
   ]
  }
 ],
 "metadata": {
  "kernelspec": {
   "display_name": "myvenv",
   "language": "python",
   "name": "python3"
  },
  "language_info": {
   "codemirror_mode": {
    "name": "ipython",
    "version": 3
   },
   "file_extension": ".py",
   "mimetype": "text/x-python",
   "name": "python",
   "nbconvert_exporter": "python",
   "pygments_lexer": "ipython3",
   "version": "3.12.11"
  }
 },
 "nbformat": 4,
 "nbformat_minor": 5
}
